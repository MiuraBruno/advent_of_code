{
 "cells": [
  {
   "cell_type": "code",
   "execution_count": 1,
   "id": "02807ad4",
   "metadata": {},
   "outputs": [],
   "source": [
    "import sys\n",
    "import os\n",
    "import re\n",
    "\n",
    "module_path = os.path.abspath(os.path.join('..', 'my_lib'))\n",
    "if module_path not in sys.path:\n",
    "    sys.path.append(module_path)\n",
    "\n",
    "from my_lib_miura import read_file"
   ]
  },
  {
   "cell_type": "code",
   "execution_count": 2,
   "id": "cb86ae18",
   "metadata": {},
   "outputs": [],
   "source": [
    "content = read_file('input.txt')"
   ]
  },
  {
   "cell_type": "code",
   "execution_count": 3,
   "id": "09878f2f",
   "metadata": {},
   "outputs": [],
   "source": [
    "rules, pages =content.split('\\n\\n')"
   ]
  },
  {
   "cell_type": "code",
   "execution_count": 4,
   "id": "a9a32cb8",
   "metadata": {},
   "outputs": [],
   "source": [
    "rules = rules.split('\\n')\n",
    "pages = pages.split('\\n')"
   ]
  },
  {
   "cell_type": "code",
   "execution_count": 5,
   "id": "a4998605",
   "metadata": {},
   "outputs": [],
   "source": [
    "rules = [list(map(lambda x: int(x), rule.split('|'))) for rule in rules]\n",
    "\n",
    "pages = [list(map(lambda x: int(x), page.split(','))) for page in pages]"
   ]
  },
  {
   "cell_type": "markdown",
   "id": "1237aac1",
   "metadata": {},
   "source": [
    "# Part 1"
   ]
  },
  {
   "cell_type": "code",
   "execution_count": 6,
   "id": "42f38df2",
   "metadata": {},
   "outputs": [],
   "source": [
    "def check(page):\n",
    "    for rule in rules:\n",
    "        if (rule[0] in page) and (rule[1] in page) and (page.index(rule[0]) > page.index(rule[1])):\n",
    "            return 0 \n",
    "    else:\n",
    "        return page[len(page) // 2]"
   ]
  },
  {
   "cell_type": "code",
   "execution_count": 7,
   "id": "718c0499",
   "metadata": {},
   "outputs": [
    {
     "name": "stdout",
     "output_type": "stream",
     "text": [
      "6051\n"
     ]
    }
   ],
   "source": [
    "answer = 0 \n",
    "for page in pages:\n",
    "    answer = answer + check(page)\n",
    "print(answer)"
   ]
  },
  {
   "cell_type": "markdown",
   "id": "e724a3b3",
   "metadata": {},
   "source": [
    "# Part 2"
   ]
  },
  {
   "cell_type": "code",
   "execution_count": null,
   "id": "ebe89da9",
   "metadata": {},
   "outputs": [],
   "source": []
  }
 ],
 "metadata": {
  "kernelspec": {
   "display_name": "Python 3 (ipykernel)",
   "language": "python",
   "name": "python3"
  },
  "language_info": {
   "codemirror_mode": {
    "name": "ipython",
    "version": 3
   },
   "file_extension": ".py",
   "mimetype": "text/x-python",
   "name": "python",
   "nbconvert_exporter": "python",
   "pygments_lexer": "ipython3",
   "version": "3.9.7"
  }
 },
 "nbformat": 4,
 "nbformat_minor": 5
}
