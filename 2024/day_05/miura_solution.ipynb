{
 "cells": [
  {
   "cell_type": "code",
   "execution_count": 1,
   "id": "02807ad4",
   "metadata": {},
   "outputs": [],
   "source": [
    "import sys\n",
    "import os\n",
    "import re\n",
    "\n",
    "module_path = os.path.abspath(os.path.join('..', 'my_lib'))\n",
    "if module_path not in sys.path:\n",
    "    sys.path.append(module_path)\n",
    "\n",
    "from my_lib_miura import read_file"
   ]
  },
  {
   "cell_type": "code",
   "execution_count": 159,
   "id": "cb86ae18",
   "metadata": {},
   "outputs": [],
   "source": [
    "content = read_file('input.txt')"
   ]
  },
  {
   "cell_type": "code",
   "execution_count": 151,
   "id": "5535d904",
   "metadata": {},
   "outputs": [],
   "source": [
    "content = '''47|53\n",
    "97|13\n",
    "97|61\n",
    "97|47\n",
    "75|29\n",
    "61|13\n",
    "75|53\n",
    "29|13\n",
    "97|29\n",
    "53|29\n",
    "61|53\n",
    "97|53\n",
    "61|29\n",
    "47|13\n",
    "75|47\n",
    "97|75\n",
    "47|61\n",
    "75|61\n",
    "47|29\n",
    "75|13\n",
    "53|13\n",
    "\n",
    "75,47,61,53,29\n",
    "97,61,53,29,13\n",
    "75,29,13\n",
    "75,97,47,61,53\n",
    "61,13,29\n",
    "97,13,75,29,47'''"
   ]
  },
  {
   "cell_type": "code",
   "execution_count": 160,
   "id": "09878f2f",
   "metadata": {},
   "outputs": [],
   "source": [
    "rules, pages =content.split('\\n\\n')"
   ]
  },
  {
   "cell_type": "code",
   "execution_count": 161,
   "id": "a9a32cb8",
   "metadata": {},
   "outputs": [],
   "source": [
    "rules = rules.split('\\n')\n",
    "pages = pages.split('\\n')"
   ]
  },
  {
   "cell_type": "code",
   "execution_count": 162,
   "id": "a4998605",
   "metadata": {},
   "outputs": [],
   "source": [
    "rules = [list(map(lambda x: int(x), rule.split('|'))) for rule in rules]\n",
    "\n",
    "pages = [list(map(lambda x: int(x), page.split(','))) for page in pages]"
   ]
  },
  {
   "cell_type": "markdown",
   "id": "1237aac1",
   "metadata": {},
   "source": [
    "# Part 1"
   ]
  },
  {
   "cell_type": "code",
   "execution_count": 163,
   "id": "42f38df2",
   "metadata": {},
   "outputs": [],
   "source": [
    "def check(page):\n",
    "    for rule in rules:\n",
    "        if (rule[0] in page) and (rule[1] in page)and (page.index(rule[0]) > page.index(rule[1])):\n",
    "            return 0 \n",
    "    else:\n",
    "        return page[len(page) // 2]"
   ]
  },
  {
   "cell_type": "code",
   "execution_count": 164,
   "id": "718c0499",
   "metadata": {},
   "outputs": [
    {
     "name": "stdout",
     "output_type": "stream",
     "text": [
      "6051\n"
     ]
    }
   ],
   "source": [
    "answer = 0 \n",
    "for page in pages:\n",
    "    answer = answer + check(page)\n",
    "print(answer)"
   ]
  },
  {
   "cell_type": "markdown",
   "id": "e724a3b3",
   "metadata": {},
   "source": [
    "# Part 2"
   ]
  },
  {
   "cell_type": "code",
   "execution_count": 165,
   "id": "4c0a0ef6",
   "metadata": {},
   "outputs": [],
   "source": [
    "def corrected(x):\n",
    "    idx = 0\n",
    "    while idx < len(rules):\n",
    "        rule = rules[idx]\n",
    "        if rule[0] not in x or rule[1] not in x:\n",
    "            idx = idx + 1\n",
    "            continue\n",
    "        left = x.index(rule[0])\n",
    "        right = x.index(rule[1])\n",
    "        \n",
    "        if left < right:\n",
    "            idx = idx + 1\n",
    "            continue\n",
    "        x[left], x[right] = x[right], x[left]\n",
    "        \n",
    "        idx = 0\n",
    "    return x\n"
   ]
  },
  {
   "cell_type": "code",
   "execution_count": 166,
   "id": "1e77b34a",
   "metadata": {},
   "outputs": [
    {
     "name": "stdout",
     "output_type": "stream",
     "text": [
      "5093\n"
     ]
    }
   ],
   "source": [
    "ans = 0\n",
    "for page in pages:\n",
    "    incorrected_page = page.copy()\n",
    "    corrected_page = corrected(page)\n",
    "    if corrected_page != incorrected_page:\n",
    "        ans = ans + check(corrected_page)\n",
    "print(ans)"
   ]
  },
  {
   "cell_type": "code",
   "execution_count": 170,
   "id": "dc7b9a8d",
   "metadata": {},
   "outputs": [
    {
     "data": {
      "text/plain": [
       "\"\\nCALL `x.sp.prc_load_tb_carteira`('x', 'x', 'x', 'x', 'x', 'x', 'x')     \\n\""
      ]
     },
     "execution_count": 170,
     "metadata": {},
     "output_type": "execute_result"
    }
   ],
   "source": [
    "\"\"\"\n",
    "CALL `{prj_procedure}.sp.prc_load_tb_carteira`('{prj_raw}', '{prj_raw_custom}', '{prj_trusted}', '{prj_refined}', '{prj_sensitive_raw}', '{prj_sensitive_trusted}', '{prj_sensitive_refined}')     \n",
    "\"\"\".format(\n",
    "    prj_procedure=\"x\",\n",
    "    prj_raw=\"x\",\n",
    "    prj_raw_custom=\"x\",\n",
    "    prj_trusted=\"x\",\n",
    "    prj_refined=\"x\",\n",
    "    prj_sensitive_raw=\"x\",\n",
    "    prj_sensitive_trusted=\"x\",\n",
    "    prj_sensitive_refined=\"x\"\n",
    ")"
   ]
  },
  {
   "cell_type": "code",
   "execution_count": null,
   "id": "1c37ad30",
   "metadata": {},
   "outputs": [],
   "source": []
  }
 ],
 "metadata": {
  "kernelspec": {
   "display_name": "Python 3 (ipykernel)",
   "language": "python",
   "name": "python3"
  },
  "language_info": {
   "codemirror_mode": {
    "name": "ipython",
    "version": 3
   },
   "file_extension": ".py",
   "mimetype": "text/x-python",
   "name": "python",
   "nbconvert_exporter": "python",
   "pygments_lexer": "ipython3",
   "version": "3.9.7"
  }
 },
 "nbformat": 4,
 "nbformat_minor": 5
}
