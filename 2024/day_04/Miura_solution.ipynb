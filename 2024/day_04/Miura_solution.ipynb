{
 "cells": [
  {
   "cell_type": "code",
   "execution_count": 1,
   "id": "6d5bfd7f",
   "metadata": {},
   "outputs": [],
   "source": [
    "import sys\n",
    "import os\n",
    "\n",
    "module_path = os.path.abspath(os.path.join('..', 'my_lib'))\n",
    "if module_path not in sys.path:\n",
    "    sys.path.append(module_path)\n",
    "\n",
    "from my_lib_miura import read_file"
   ]
  },
  {
   "cell_type": "code",
   "execution_count": 2,
   "id": "7d248d25",
   "metadata": {},
   "outputs": [],
   "source": [
    "import numpy as np"
   ]
  },
  {
   "cell_type": "code",
   "execution_count": 3,
   "id": "e0d63fd6",
   "metadata": {},
   "outputs": [],
   "source": [
    "content = read_file('input.txt')"
   ]
  },
  {
   "cell_type": "code",
   "execution_count": 4,
   "id": "cd9e5a40",
   "metadata": {},
   "outputs": [],
   "source": [
    "content = content.split('\\n')"
   ]
  },
  {
   "cell_type": "code",
   "execution_count": null,
   "id": "594f7426",
   "metadata": {},
   "outputs": [],
   "source": []
  },
  {
   "cell_type": "code",
   "execution_count": 5,
   "id": "90b5eef0",
   "metadata": {},
   "outputs": [],
   "source": [
    "test = '''\n",
    "....XXMAS.\n",
    ".SAMXMS...\n",
    "...S..A...\n",
    "..A.A.MS.X\n",
    "XMASAMX.MM\n",
    "X.....XA.A\n",
    "S.S.S.S.SS\n",
    ".A.A.A.A.A\n",
    "..M.M.M.MM\n",
    ".X.X.XMASX'''.split('\\n')[1:]\n",
    "\n",
    "\n",
    "test = list(map(lambda x: list(x),test))\n",
    "test = np.array(test)"
   ]
  },
  {
   "cell_type": "code",
   "execution_count": 294,
   "id": "2d2a2c1d",
   "metadata": {},
   "outputs": [],
   "source": [
    "def show_words(m):\n",
    "    for i in m:\n",
    "        print(i)\n"
   ]
  },
  {
   "cell_type": "code",
   "execution_count": 295,
   "id": "8eca27e0",
   "metadata": {},
   "outputs": [],
   "source": [
    "def get_frame(m,i,j,max_i,max_j):\n",
    "    if ((i + 4) <= max_i) and ((j+ 4) <= max_j):\n",
    "        return m[i: i + 4,j: j + 4] \n",
    "    else:\n",
    "        return None"
   ]
  },
  {
   "cell_type": "code",
   "execution_count": 296,
   "id": "a5b7ebdc",
   "metadata": {},
   "outputs": [],
   "source": [
    "def check_horizontal(m):\n",
    "    key = 'XMAS'\n",
    "    answer = 0\n",
    "    for i in m:\n",
    "        if (\"\".join(i) == key) or (\"\".join(i) == key[::-1]):\n",
    "            answer = answer + 1\n",
    "    return answer \n",
    "def check_vertical(m):\n",
    "    key = 'XMAS'\n",
    "    answer = 0\n",
    "    for i in range(len(m)):\n",
    "        if (\"\".join(m[:,i]) == key) or (\"\".join(m[:,i]) == key[::-1]):\n",
    "            answer = answer + 1\n",
    "    return answer \n",
    "def principal_diagonal(m):\n",
    "    key = 'XMAS'\n",
    "    i = 0\n",
    "    j = 0\n",
    "    dig = ''\n",
    "    for _ in enumerate(m):\n",
    "        dig = dig + m[i][j]\n",
    "        i = i + 1\n",
    "        j = j + 1\n",
    "        \n",
    "    if (dig == key) or (dig == key[::-1]):\n",
    "        return 1 \n",
    "    else:\n",
    "        return 0\n",
    "def second_diagonal(m):\n",
    "    key = 'XMAS'\n",
    "    i = 3\n",
    "    j = 0\n",
    "    dig = ''\n",
    "    for _ in enumerate(m):\n",
    "        dig = dig + m[i][j]\n",
    "        i = i - 1\n",
    "        j = j + 1\n",
    "        \n",
    "    if (dig == key) or (dig == key[::-1]):\n",
    "        return 1 \n",
    "    else:\n",
    "        return 0"
   ]
  },
  {
   "cell_type": "code",
   "execution_count": 297,
   "id": "a1f51421",
   "metadata": {},
   "outputs": [
    {
     "data": {
      "text/plain": [
       "array([['.', '.', '.', '.', 'X', 'X', 'M', 'A', 'S', '.'],\n",
       "       ['.', 'S', 'A', 'M', 'X', 'M', 'S', '.', '.', '.'],\n",
       "       ['.', '.', '.', 'S', '.', '.', 'A', '.', '.', '.'],\n",
       "       ['.', '.', 'A', '.', 'A', '.', 'M', 'S', '.', 'X'],\n",
       "       ['X', 'M', 'A', 'S', 'A', 'M', 'X', '.', 'M', 'M'],\n",
       "       ['X', '.', '.', '.', '.', '.', 'X', 'A', '.', 'A'],\n",
       "       ['S', '.', 'S', '.', 'S', '.', 'S', '.', 'S', 'S'],\n",
       "       ['.', 'A', '.', 'A', '.', 'A', '.', 'A', '.', 'A'],\n",
       "       ['.', '.', 'M', '.', 'M', '.', 'M', '.', 'M', 'M'],\n",
       "       ['.', 'X', '.', 'X', '.', 'X', 'M', 'A', 'S', 'X']], dtype='<U1')"
      ]
     },
     "execution_count": 297,
     "metadata": {},
     "output_type": "execute_result"
    }
   ],
   "source": [
    "test"
   ]
  },
  {
   "cell_type": "code",
   "execution_count": 298,
   "id": "de711e95",
   "metadata": {},
   "outputs": [
    {
     "name": "stdout",
     "output_type": "stream",
     "text": [
      "[['.' '.' '.' '.']\n",
      " ['.' 'S' 'A' 'M']\n",
      " ['.' '.' '.' 'S']\n",
      " ['.' '.' 'A' '.']]\n",
      "horizontal\n",
      "0\n",
      "vertical\n",
      "0\n",
      "[['.' '.' '.' 'X']\n",
      " ['S' 'A' 'M' 'X']\n",
      " ['.' '.' 'S' '.']\n",
      " ['.' 'A' '.' 'A']]\n",
      "horizontal\n",
      "1\n",
      "[['.' '.' 'X' 'X']\n",
      " ['A' 'M' 'X' 'M']\n",
      " ['.' 'S' '.' '.']\n",
      " ['A' '.' 'A' '.']]\n",
      "horizontal\n",
      "0\n",
      "[['.' 'X' 'X' 'M']\n",
      " ['M' 'X' 'M' 'S']\n",
      " ['S' '.' '.' 'A']\n",
      " ['.' 'A' '.' 'M']]\n",
      "horizontal\n",
      "0\n",
      "[['X' 'X' 'M' 'A']\n",
      " ['X' 'M' 'S' '.']\n",
      " ['.' '.' 'A' '.']\n",
      " ['A' '.' 'M' 'S']]\n",
      "horizontal\n",
      "0\n",
      "vertical\n",
      "0\n",
      "[['X' 'M' 'A' 'S']\n",
      " ['M' 'S' '.' '.']\n",
      " ['.' 'A' '.' '.']\n",
      " ['.' 'M' 'S' '.']]\n",
      "horizontal\n",
      "1\n",
      "[['M' 'A' 'S' '.']\n",
      " ['S' '.' '.' '.']\n",
      " ['A' '.' '.' '.']\n",
      " ['M' 'S' '.' 'X']]\n",
      "horizontal\n",
      "0\n",
      "[['.' 'S' 'A' 'M']\n",
      " ['.' '.' '.' 'S']\n",
      " ['.' '.' 'A' '.']\n",
      " ['X' 'M' 'A' 'S']]\n",
      "horizontal\n",
      "1\n",
      "[['S' 'A' 'M' 'X']\n",
      " ['.' '.' 'S' '.']\n",
      " ['.' 'A' '.' 'A']\n",
      " ['M' 'A' 'S' 'A']]\n",
      "horizontal\n",
      "1\n",
      "vertical\n",
      "0\n",
      "[['A' 'M' 'X' 'M']\n",
      " ['.' 'S' '.' '.']\n",
      " ['A' '.' 'A' '.']\n",
      " ['A' 'S' 'A' 'M']]\n",
      "horizontal\n",
      "0\n",
      "[['M' 'X' 'M' 'S']\n",
      " ['S' '.' '.' 'A']\n",
      " ['.' 'A' '.' 'M']\n",
      " ['S' 'A' 'M' 'X']]\n",
      "horizontal\n",
      "1\n",
      "[['X' 'M' 'S' '.']\n",
      " ['.' '.' 'A' '.']\n",
      " ['A' '.' 'M' 'S']\n",
      " ['A' 'M' 'X' '.']]\n",
      "horizontal\n",
      "0\n",
      "[['M' 'S' '.' '.']\n",
      " ['.' 'A' '.' '.']\n",
      " ['.' 'M' 'S' '.']\n",
      " ['M' 'X' '.' 'M']]\n",
      "horizontal\n",
      "0\n",
      "vertical\n",
      "1\n",
      "[['S' '.' '.' '.']\n",
      " ['A' '.' '.' '.']\n",
      " ['M' 'S' '.' 'X']\n",
      " ['X' '.' 'M' 'M']]\n",
      "horizontal\n",
      "0\n",
      "[['.' '.' '.' 'S']\n",
      " ['.' '.' 'A' '.']\n",
      " ['X' 'M' 'A' 'S']\n",
      " ['X' '.' '.' '.']]\n",
      "horizontal\n",
      "1\n",
      "[['.' '.' 'S' '.']\n",
      " ['.' 'A' '.' 'A']\n",
      " ['M' 'A' 'S' 'A']\n",
      " ['.' '.' '.' '.']]\n",
      "horizontal\n",
      "0\n",
      "[['.' 'S' '.' '.']\n",
      " ['A' '.' 'A' '.']\n",
      " ['A' 'S' 'A' 'M']\n",
      " ['.' '.' '.' '.']]\n",
      "horizontal\n",
      "0\n",
      "vertical\n",
      "0\n",
      "[['S' '.' '.' 'A']\n",
      " ['.' 'A' '.' 'M']\n",
      " ['S' 'A' 'M' 'X']\n",
      " ['.' '.' '.' 'X']]\n",
      "horizontal\n",
      "1\n",
      "[['.' '.' 'A' '.']\n",
      " ['A' '.' 'M' 'S']\n",
      " ['A' 'M' 'X' '.']\n",
      " ['.' '.' 'X' 'A']]\n",
      "horizontal\n",
      "0\n",
      "[['.' 'A' '.' '.']\n",
      " ['.' 'M' 'S' '.']\n",
      " ['M' 'X' '.' 'M']\n",
      " ['.' 'X' 'A' '.']]\n",
      "horizontal\n",
      "0\n",
      "[['A' '.' '.' '.']\n",
      " ['M' 'S' '.' 'X']\n",
      " ['X' '.' 'M' 'M']\n",
      " ['X' 'A' '.' 'A']]\n",
      "horizontal\n",
      "0\n",
      "vertical\n",
      "0\n",
      "[['.' '.' 'A' '.']\n",
      " ['X' 'M' 'A' 'S']\n",
      " ['X' '.' '.' '.']\n",
      " ['S' '.' 'S' '.']]\n",
      "horizontal\n",
      "1\n",
      "[['.' 'A' '.' 'A']\n",
      " ['M' 'A' 'S' 'A']\n",
      " ['.' '.' '.' '.']\n",
      " ['.' 'S' '.' 'S']]\n",
      "horizontal\n",
      "0\n",
      "[['A' '.' 'A' '.']\n",
      " ['A' 'S' 'A' 'M']\n",
      " ['.' '.' '.' '.']\n",
      " ['S' '.' 'S' '.']]\n",
      "horizontal\n",
      "0\n",
      "[['.' 'A' '.' 'M']\n",
      " ['S' 'A' 'M' 'X']\n",
      " ['.' '.' '.' 'X']\n",
      " ['.' 'S' '.' 'S']]\n",
      "horizontal\n",
      "1\n",
      "vertical\n",
      "0\n",
      "[['A' '.' 'M' 'S']\n",
      " ['A' 'M' 'X' '.']\n",
      " ['.' '.' 'X' 'A']\n",
      " ['S' '.' 'S' '.']]\n",
      "horizontal\n",
      "0\n",
      "[['.' 'M' 'S' '.']\n",
      " ['M' 'X' '.' 'M']\n",
      " ['.' 'X' 'A' '.']\n",
      " ['.' 'S' '.' 'S']]\n",
      "horizontal\n",
      "0\n",
      "[['M' 'S' '.' 'X']\n",
      " ['X' '.' 'M' 'M']\n",
      " ['X' 'A' '.' 'A']\n",
      " ['S' '.' 'S' 'S']]\n",
      "horizontal\n",
      "0\n",
      "[['X' 'M' 'A' 'S']\n",
      " ['X' '.' '.' '.']\n",
      " ['S' '.' 'S' '.']\n",
      " ['.' 'A' '.' 'A']]\n",
      "horizontal\n",
      "1\n",
      "vertical\n",
      "0\n",
      "[['M' 'A' 'S' 'A']\n",
      " ['.' '.' '.' '.']\n",
      " ['.' 'S' '.' 'S']\n",
      " ['A' '.' 'A' '.']]\n",
      "horizontal\n",
      "0\n",
      "[['A' 'S' 'A' 'M']\n",
      " ['.' '.' '.' '.']\n",
      " ['S' '.' 'S' '.']\n",
      " ['.' 'A' '.' 'A']]\n",
      "horizontal\n",
      "0\n",
      "[['S' 'A' 'M' 'X']\n",
      " ['.' '.' '.' 'X']\n",
      " ['.' 'S' '.' 'S']\n",
      " ['A' '.' 'A' '.']]\n",
      "horizontal\n",
      "1\n",
      "[['A' 'M' 'X' '.']\n",
      " ['.' '.' 'X' 'A']\n",
      " ['S' '.' 'S' '.']\n",
      " ['.' 'A' '.' 'A']]\n",
      "horizontal\n",
      "0\n",
      "vertical\n",
      "0\n",
      "[['M' 'X' '.' 'M']\n",
      " ['.' 'X' 'A' '.']\n",
      " ['.' 'S' '.' 'S']\n",
      " ['A' '.' 'A' '.']]\n",
      "horizontal\n",
      "0\n",
      "[['X' '.' 'M' 'M']\n",
      " ['X' 'A' '.' 'A']\n",
      " ['S' '.' 'S' 'S']\n",
      " ['.' 'A' '.' 'A']]\n",
      "horizontal\n",
      "0\n",
      "[['X' '.' '.' '.']\n",
      " ['S' '.' 'S' '.']\n",
      " ['.' 'A' '.' 'A']\n",
      " ['.' '.' 'M' '.']]\n",
      "horizontal\n",
      "0\n",
      "[['.' '.' '.' '.']\n",
      " ['.' 'S' '.' 'S']\n",
      " ['A' '.' 'A' '.']\n",
      " ['.' 'M' '.' 'M']]\n",
      "horizontal\n",
      "0\n",
      "vertical\n",
      "0\n",
      "[['.' '.' '.' '.']\n",
      " ['S' '.' 'S' '.']\n",
      " ['.' 'A' '.' 'A']\n",
      " ['M' '.' 'M' '.']]\n",
      "horizontal\n",
      "0\n",
      "[['.' '.' '.' 'X']\n",
      " ['.' 'S' '.' 'S']\n",
      " ['A' '.' 'A' '.']\n",
      " ['.' 'M' '.' 'M']]\n",
      "horizontal\n",
      "0\n",
      "[['.' '.' 'X' 'A']\n",
      " ['S' '.' 'S' '.']\n",
      " ['.' 'A' '.' 'A']\n",
      " ['M' '.' 'M' '.']]\n",
      "horizontal\n",
      "0\n",
      "[['.' 'X' 'A' '.']\n",
      " ['.' 'S' '.' 'S']\n",
      " ['A' '.' 'A' '.']\n",
      " ['.' 'M' '.' 'M']]\n",
      "horizontal\n",
      "0\n",
      "vertical\n",
      "0\n",
      "[['X' 'A' '.' 'A']\n",
      " ['S' '.' 'S' 'S']\n",
      " ['.' 'A' '.' 'A']\n",
      " ['M' '.' 'M' 'M']]\n",
      "horizontal\n",
      "0\n",
      "[['S' '.' 'S' '.']\n",
      " ['.' 'A' '.' 'A']\n",
      " ['.' '.' 'M' '.']\n",
      " ['.' 'X' '.' 'X']]\n",
      "horizontal\n",
      "0\n",
      "[['.' 'S' '.' 'S']\n",
      " ['A' '.' 'A' '.']\n",
      " ['.' 'M' '.' 'M']\n",
      " ['X' '.' 'X' '.']]\n",
      "horizontal\n",
      "0\n",
      "[['S' '.' 'S' '.']\n",
      " ['.' 'A' '.' 'A']\n",
      " ['M' '.' 'M' '.']\n",
      " ['.' 'X' '.' 'X']]\n",
      "horizontal\n",
      "0\n",
      "vertical\n",
      "0\n",
      "[['.' 'S' '.' 'S']\n",
      " ['A' '.' 'A' '.']\n",
      " ['.' 'M' '.' 'M']\n",
      " ['X' '.' 'X' 'M']]\n",
      "horizontal\n",
      "0\n",
      "[['S' '.' 'S' '.']\n",
      " ['.' 'A' '.' 'A']\n",
      " ['M' '.' 'M' '.']\n",
      " ['.' 'X' 'M' 'A']]\n",
      "horizontal\n",
      "0\n",
      "[['.' 'S' '.' 'S']\n",
      " ['A' '.' 'A' '.']\n",
      " ['.' 'M' '.' 'M']\n",
      " ['X' 'M' 'A' 'S']]\n",
      "horizontal\n",
      "1\n",
      "[['S' '.' 'S' 'S']\n",
      " ['.' 'A' '.' 'A']\n",
      " ['M' '.' 'M' 'M']\n",
      " ['M' 'A' 'S' 'X']]\n",
      "horizontal\n",
      "0\n",
      "vertical\n",
      "1\n"
     ]
    }
   ],
   "source": [
    "mult_i = 0\n",
    "mult_j = 0\n",
    "for i in range(len(test)):\n",
    "    for j in range(len(test)):\n",
    "        frame = get_frame(test,i,j,len(test),len(test[0]))\n",
    "        if frame is None:\n",
    "            break\n",
    "        print(frame)\n",
    "        if mult_i % 4 == 0:\n",
    "            print('horizontal')\n",
    "            print(check_horizontal((frame)))\n",
    "        if mult_j % 4 == 0:\n",
    "            print('vertical')\n",
    "            print(check_vertical(frame))\n",
    "        mult_j = mult_j + 1\n",
    "        #print(principal_diagonal(frame))\n",
    "        #print(second_diagonal(frame))\n",
    "    mult_i = mult_i + 4"
   ]
  },
  {
   "cell_type": "markdown",
   "id": "bb830fb5",
   "metadata": {},
   "source": [
    "# tentativa 2"
   ]
  },
  {
   "cell_type": "code",
   "execution_count": 7,
   "id": "63c00c8d",
   "metadata": {},
   "outputs": [
    {
     "data": {
      "text/plain": [
       "array([['.', '.', '.', '.', 'X', 'X', 'M', 'A', 'S', '.'],\n",
       "       ['.', 'S', 'A', 'M', 'X', 'M', 'S', '.', '.', '.'],\n",
       "       ['.', '.', '.', 'S', '.', '.', 'A', '.', '.', '.'],\n",
       "       ['.', '.', 'A', '.', 'A', '.', 'M', 'S', '.', 'X'],\n",
       "       ['X', 'M', 'A', 'S', 'A', 'M', 'X', '.', 'M', 'M'],\n",
       "       ['X', '.', '.', '.', '.', '.', 'X', 'A', '.', 'A'],\n",
       "       ['S', '.', 'S', '.', 'S', '.', 'S', '.', 'S', 'S'],\n",
       "       ['.', 'A', '.', 'A', '.', 'A', '.', 'A', '.', 'A'],\n",
       "       ['.', '.', 'M', '.', 'M', '.', 'M', '.', 'M', 'M'],\n",
       "       ['.', 'X', '.', 'X', '.', 'X', 'M', 'A', 'S', 'X']], dtype='<U1')"
      ]
     },
     "execution_count": 7,
     "metadata": {},
     "output_type": "execute_result"
    }
   ],
   "source": [
    "test\n"
   ]
  },
  {
   "cell_type": "code",
   "execution_count": 13,
   "id": "ae609154",
   "metadata": {},
   "outputs": [
    {
     "name": "stdout",
     "output_type": "stream",
     "text": [
      "5\n"
     ]
    }
   ],
   "source": [
    "#For horizontal\n",
    "answer_horizontal = 0 \n",
    "for i in test:\n",
    "    answer_horizontal = answer_horizontal + \"\".join(i).count('XMAS') + \"\".join(i).count('SAMX')\n",
    "print(answer_horizontal)"
   ]
  },
  {
   "cell_type": "code",
   "execution_count": 9,
   "id": "56d0a8ab",
   "metadata": {},
   "outputs": [
    {
     "name": "stdout",
     "output_type": "stream",
     "text": [
      "3\n"
     ]
    }
   ],
   "source": [
    "#For Vertical\n",
    "answer_vertical = 0\n",
    "for i in range(len(test[0])):\n",
    "    #print(\"\".join(test[:,i]))\n",
    "    answer_vertical = answer_vertical + \"\".join(test[:,i]).count('XMAS') + \"\".join(test[:,i]).count('SAMX')\n",
    "print(answer_vertical)"
   ]
  },
  {
   "cell_type": "code",
   "execution_count": 10,
   "id": "f9dfbad9",
   "metadata": {},
   "outputs": [
    {
     "name": "stdout",
     "output_type": "stream",
     "text": [
      "5\n"
     ]
    }
   ],
   "source": [
    "#For main diagonal \n",
    "len_matriz = len(test)\n",
    "answer_main_diagonal = 0\n",
    "for i in range(-1 * len_matriz, len_matriz):\n",
    "    answer_main_diagonal = answer_main_diagonal + \"\".join(test.diagonal(i)).count('XMAS') + \"\".join(test.diagonal(i)).count('SAMX') \n",
    "print(answer_main_diagonal)"
   ]
  },
  {
   "cell_type": "code",
   "execution_count": 11,
   "id": "ad8d0f8f",
   "metadata": {},
   "outputs": [
    {
     "name": "stdout",
     "output_type": "stream",
     "text": [
      "5\n"
     ]
    }
   ],
   "source": [
    "#For anti diagonal\n",
    "test_invertido = np.flipud(test)\n",
    "answer_anti_diagonal = 0 \n",
    "for i in range(-1 * len_matriz, len_matriz + 1):\n",
    "    answer_anti_diagonal = answer_anti_diagonal + \"\".join(test_invertido.diagonal(i)).count('XMAS') + \"\".join(test_invertido.diagonal(i)).count('SAMX') \n",
    "print(answer_anti_diagonal)"
   ]
  },
  {
   "cell_type": "code",
   "execution_count": 12,
   "id": "c2636d68",
   "metadata": {},
   "outputs": [
    {
     "name": "stdout",
     "output_type": "stream",
     "text": [
      "18\n"
     ]
    }
   ],
   "source": [
    "print(\n",
    "      answer_horizontal \n",
    "    + answer_vertical \n",
    "    + answer_main_diagonal \n",
    "    + answer_anti_diagonal\n",
    ")"
   ]
  },
  {
   "cell_type": "markdown",
   "id": "f1e986cd",
   "metadata": {},
   "source": [
    "# Parte 2"
   ]
  },
  {
   "cell_type": "code",
   "execution_count": 354,
   "id": "776ac34f",
   "metadata": {},
   "outputs": [],
   "source": [
    "test = '''\n",
    ".M.S......\n",
    "..A..MSMS.\n",
    ".M.S.MAA..\n",
    "..A.ASMSM.\n",
    ".M.S.M....\n",
    "..........\n",
    "S.S.S.S.S.\n",
    ".A.A.A.A..\n",
    "M.M.M.M.M.\n",
    "..........'''.split('\\n')[1:]\n",
    "\n",
    "\n",
    "test = list(map(lambda x: list(x),test))\n",
    "test = np.array(test)"
   ]
  },
  {
   "cell_type": "code",
   "execution_count": 359,
   "id": "6c5faf9a",
   "metadata": {},
   "outputs": [],
   "source": [
    "def get_frame(m,i,j,max_i,max_j):\n",
    "    if ((i + 3) <= max_i) and ((j+ 3) <= max_j):\n",
    "        return m[i: i + 3,j: j + 3] \n",
    "    else:\n",
    "        return None"
   ]
  },
  {
   "cell_type": "code",
   "execution_count": 360,
   "id": "748bd970",
   "metadata": {},
   "outputs": [
    {
     "data": {
      "text/plain": [
       "array([['.', 'M', '.'],\n",
       "       ['.', '.', 'A'],\n",
       "       ['.', 'M', '.']], dtype='<U1')"
      ]
     },
     "execution_count": 360,
     "metadata": {},
     "output_type": "execute_result"
    }
   ],
   "source": [
    "get_frame(test,0,0,10,10)"
   ]
  },
  {
   "cell_type": "code",
   "execution_count": 400,
   "id": "8fec785b",
   "metadata": {},
   "outputs": [],
   "source": [
    "test = content.copy()"
   ]
  },
  {
   "cell_type": "code",
   "execution_count": 401,
   "id": "8e7bbe1f",
   "metadata": {},
   "outputs": [
    {
     "name": "stdout",
     "output_type": "stream",
     "text": [
      "1925\n"
     ]
    }
   ],
   "source": [
    "answer = 0\n",
    "for i in range(len(test)):\n",
    "    for j in range(len(test)):\n",
    "        frame = get_frame(test,i,j,len(test),len(test[0]))\n",
    "        #print(frame)\n",
    "        if frame is None:\n",
    "            break\n",
    "        if (\n",
    "            (\n",
    "                \"\".join(frame.diagonal(0)) == 'SAM' \n",
    "                or \"\".join(frame.diagonal(0)) == 'MAS' \n",
    "            )\n",
    "            and\n",
    "            (\n",
    "                \"\".join(np.fliplr(frame).diagonal(0)) == 'SAM'\n",
    "                or \"\".join(np.fliplr(frame).diagonal(0)) == 'MAS'\n",
    "            )\n",
    "        ):\n",
    "            answer = answer + 1\n",
    "            #print(answer)\n",
    "print(answer)"
   ]
  },
  {
   "cell_type": "code",
   "execution_count": 393,
   "id": "c96b0bbd",
   "metadata": {},
   "outputs": [
    {
     "data": {
      "text/plain": [
       "array([['.', 'M', '.', 'S', '.', '.', '.', '.', '.', '.'],\n",
       "       ['.', '.', 'A', '.', '.', 'M', 'S', 'M', 'S', '.'],\n",
       "       ['.', 'M', '.', 'S', '.', 'M', 'A', 'A', '.', '.'],\n",
       "       ['.', '.', 'A', '.', 'A', 'S', 'M', 'S', 'M', '.'],\n",
       "       ['.', 'M', '.', 'S', '.', 'M', '.', '.', '.', '.'],\n",
       "       ['.', '.', '.', '.', '.', '.', '.', '.', '.', '.'],\n",
       "       ['S', '.', 'S', '.', 'S', '.', 'S', '.', 'S', '.'],\n",
       "       ['.', 'A', '.', 'A', '.', 'A', '.', 'A', '.', '.'],\n",
       "       ['M', '.', 'M', '.', 'M', '.', 'M', '.', 'M', '.'],\n",
       "       ['.', '.', '.', '.', '.', '.', '.', '.', '.', '.']], dtype='<U1')"
      ]
     },
     "execution_count": 393,
     "metadata": {},
     "output_type": "execute_result"
    }
   ],
   "source": [
    "test"
   ]
  },
  {
   "cell_type": "code",
   "execution_count": 371,
   "id": "6b969de7",
   "metadata": {},
   "outputs": [],
   "source": [
    "x = np.array(x)"
   ]
  },
  {
   "cell_type": "code",
   "execution_count": 372,
   "id": "e884885b",
   "metadata": {},
   "outputs": [
    {
     "data": {
      "text/plain": [
       "array([['S', '.', 'S'],\n",
       "       ['.', 'A', '.'],\n",
       "       ['M', '.', 'M']], dtype='<U1')"
      ]
     },
     "execution_count": 372,
     "metadata": {},
     "output_type": "execute_result"
    }
   ],
   "source": [
    "x"
   ]
  },
  {
   "cell_type": "code",
   "execution_count": 383,
   "id": "f9e423ee",
   "metadata": {},
   "outputs": [
    {
     "data": {
      "text/plain": [
       "array(['S', 'A', 'M'], dtype='<U1')"
      ]
     },
     "execution_count": 383,
     "metadata": {},
     "output_type": "execute_result"
    }
   ],
   "source": []
  },
  {
   "cell_type": "code",
   "execution_count": 386,
   "id": "a9145f44",
   "metadata": {},
   "outputs": [
    {
     "data": {
      "text/plain": [
       "'SAM'"
      ]
     },
     "execution_count": 386,
     "metadata": {},
     "output_type": "execute_result"
    }
   ],
   "source": [
    "\"\".join(x.diagonal(0))"
   ]
  },
  {
   "cell_type": "code",
   "execution_count": 389,
   "id": "9cbcbc13",
   "metadata": {},
   "outputs": [
    {
     "name": "stdout",
     "output_type": "stream",
     "text": [
      "oi\n"
     ]
    }
   ],
   "source": [
    "\n",
    "    "
   ]
  },
  {
   "cell_type": "code",
   "execution_count": 14,
   "id": "5f7f202e",
   "metadata": {},
   "outputs": [
    {
     "data": {
      "text/plain": [
       "array([['.', '.', '.', '.', 'X', 'X', 'M', 'A', 'S', '.'],\n",
       "       ['.', 'S', 'A', 'M', 'X', 'M', 'S', '.', '.', '.'],\n",
       "       ['.', '.', '.', 'S', '.', '.', 'A', '.', '.', '.'],\n",
       "       ['.', '.', 'A', '.', 'A', '.', 'M', 'S', '.', 'X'],\n",
       "       ['X', 'M', 'A', 'S', 'A', 'M', 'X', '.', 'M', 'M'],\n",
       "       ['X', '.', '.', '.', '.', '.', 'X', 'A', '.', 'A'],\n",
       "       ['S', '.', 'S', '.', 'S', '.', 'S', '.', 'S', 'S'],\n",
       "       ['.', 'A', '.', 'A', '.', 'A', '.', 'A', '.', 'A'],\n",
       "       ['.', '.', 'M', '.', 'M', '.', 'M', '.', 'M', 'M'],\n",
       "       ['.', 'X', '.', 'X', '.', 'X', 'M', 'A', 'S', 'X']], dtype='<U1')"
      ]
     },
     "execution_count": 14,
     "metadata": {},
     "output_type": "execute_result"
    }
   ],
   "source": [
    "test"
   ]
  },
  {
   "cell_type": "code",
   "execution_count": null,
   "id": "293b1715",
   "metadata": {},
   "outputs": [],
   "source": []
  }
 ],
 "metadata": {
  "kernelspec": {
   "display_name": "Python 3 (ipykernel)",
   "language": "python",
   "name": "python3"
  },
  "language_info": {
   "codemirror_mode": {
    "name": "ipython",
    "version": 3
   },
   "file_extension": ".py",
   "mimetype": "text/x-python",
   "name": "python",
   "nbconvert_exporter": "python",
   "pygments_lexer": "ipython3",
   "version": "3.9.7"
  }
 },
 "nbformat": 4,
 "nbformat_minor": 5
}
