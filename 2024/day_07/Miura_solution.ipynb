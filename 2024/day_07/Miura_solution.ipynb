{
 "cells": [
  {
   "cell_type": "code",
   "execution_count": 1,
   "id": "e37f1dff",
   "metadata": {},
   "outputs": [],
   "source": [
    "import sys\n",
    "import os\n",
    "import re\n",
    "import copy\n",
    "module_path = os.path.abspath(os.path.join('..', 'my_lib'))\n",
    "if module_path not in sys.path:\n",
    "    sys.path.append(module_path)\n",
    "\n",
    "from my_lib_miura import read_file"
   ]
  },
  {
   "cell_type": "code",
   "execution_count": 206,
   "id": "805cd4a0",
   "metadata": {},
   "outputs": [],
   "source": [
    "teste = '''190: 10 19\n",
    "3267: 81 40 27\n",
    "83: 17 5\n",
    "156: 15 6\n",
    "7290: 6 8 6 15\n",
    "161011: 16 10 13\n",
    "192: 17 8 14\n",
    "21037: 9 7 18 13\n",
    "292: 11 6 16 20'''.split('\\n')"
   ]
  },
  {
   "cell_type": "code",
   "execution_count": 224,
   "id": "00c4a75a",
   "metadata": {},
   "outputs": [],
   "source": [
    "teste = read_file('input.txt').split('\\n')"
   ]
  },
  {
   "cell_type": "markdown",
   "id": "1fed6595",
   "metadata": {},
   "source": [
    "# Part 1"
   ]
  },
  {
   "cell_type": "code",
   "execution_count": 99,
   "id": "5fc30d80",
   "metadata": {},
   "outputs": [],
   "source": [
    "def possibilities(x):\n",
    "    return (2**(x-1)) \n",
    "\n",
    "def get_bin(x,qtd):\n",
    "    list_bin = []\n",
    "    for i in range(qtd):\n",
    "        list_bin.append(bin(i)[2:].zfill(x-1))\n",
    "    return list_bin\n",
    "def agg_nums(a,b,c):\n",
    "    if c == '0':\n",
    "        return a + b\n",
    "    else:\n",
    "        return a * b\n"
   ]
  },
  {
   "cell_type": "code",
   "execution_count": 100,
   "id": "8734980a",
   "metadata": {},
   "outputs": [
    {
     "name": "stdout",
     "output_type": "stream",
     "text": [
      "1545311493300\n"
     ]
    }
   ],
   "source": [
    "answer = []\n",
    "for line in teste:\n",
    "    value, numbers = line.split(':')\n",
    "    value = int(value)\n",
    "    numbers = list(map(lambda x: int(x), numbers.split()))\n",
    "    #print(value)\n",
    "    #print(numbers)\n",
    "    poss = possibilities(len(numbers))\n",
    "    v_bin = get_bin(len(numbers),poss)\n",
    "    #print(poss)\n",
    "    #print(v_bin)\n",
    "    #print('-'*20)\n",
    "    for i in range(poss):\n",
    "        sum_number = numbers[0]\n",
    "        new_numbers = numbers.copy()[1:]\n",
    "        for j in range(len(new_numbers)):\n",
    "            #print(sum_number)\n",
    "            sum_number = agg_nums(sum_number,new_numbers[j],v_bin[i][j])\n",
    "        if sum_number == value:\n",
    "            answer.append(sum_number)\n",
    "            break\n",
    "        #print(sum_number)\n",
    "    #print('='*30)\n",
    "print(sum(answer))"
   ]
  },
  {
   "cell_type": "code",
   "execution_count": 114,
   "id": "12bca73a",
   "metadata": {},
   "outputs": [],
   "source": []
  },
  {
   "cell_type": "markdown",
   "id": "cb812827",
   "metadata": {},
   "source": [
    "# Part 2"
   ]
  },
  {
   "cell_type": "code",
   "execution_count": 193,
   "id": "71edde4d",
   "metadata": {},
   "outputs": [],
   "source": [
    "def possibilities_2(x):\n",
    "    return (3**(x-1)) \n",
    "\n",
    "def num_base_three(x,numero):\n",
    "    if numero == 0:\n",
    "        return \"0\".zfill(x)\n",
    "    ternario = \"\"\n",
    "    while numero > 0:\n",
    "        resto = numero % 3\n",
    "        ternario = str(resto) + ternario\n",
    "        numero //= 3\n",
    "    return ternario.zfill(x)\n",
    "\n",
    "def get_num_base_three(x,qtd):\n",
    "    list_base_three = []\n",
    "    for i in range(qtd):\n",
    "        list_base_three.append(num_base_three(x,i))\n",
    "    return list_base_three\n",
    "\n",
    "def agg_nums(a,b,c):\n",
    "    if c == '0':\n",
    "        return a + b\n",
    "    elif c == '1':\n",
    "        return a * b\n",
    "    else:\n",
    "        return int(str(a) + str(b))\n"
   ]
  },
  {
   "cell_type": "code",
   "execution_count": 205,
   "id": "693a3082",
   "metadata": {},
   "outputs": [
    {
     "data": {
      "text/plain": [
       "['0', '1', '2']"
      ]
     },
     "execution_count": 205,
     "metadata": {},
     "output_type": "execute_result"
    }
   ],
   "source": [
    "qtd_numeros = 2\n",
    "x = qtd_numeros - 1\n",
    "combinacoes = possibilities_2(qtd_numeros)\n",
    "get_num_base_three(x,combinacoes)"
   ]
  },
  {
   "cell_type": "code",
   "execution_count": 225,
   "id": "a5bd5cde",
   "metadata": {},
   "outputs": [
    {
     "name": "stdout",
     "output_type": "stream",
     "text": [
      "169122112716571\n"
     ]
    }
   ],
   "source": [
    "answer = []\n",
    "for line in teste:\n",
    "    value, numbers = line.split(':')\n",
    "    value = int(value)\n",
    "    numbers = list(map(lambda x: int(x), numbers.split()))\n",
    "    \n",
    "    poss = possibilities_2(len(numbers))\n",
    "    v_three = get_num_base_three(len(numbers) - 1,poss)\n",
    "    \n",
    "    for i in range(poss):\n",
    "        sum_number = numbers[0]\n",
    "        new_numbers = numbers.copy()[1:]\n",
    "        for j in range(len(new_numbers)):\n",
    "            #print(sum_number)\n",
    "            sum_number = agg_nums(sum_number,new_numbers[j],v_three[i][j])\n",
    "        if sum_number == value:\n",
    "            answer.append(sum_number)\n",
    "            break\n",
    "print(sum(answer))"
   ]
  },
  {
   "cell_type": "code",
   "execution_count": null,
   "id": "0f409cf7",
   "metadata": {},
   "outputs": [],
   "source": []
  }
 ],
 "metadata": {
  "kernelspec": {
   "display_name": "Python 3 (ipykernel)",
   "language": "python",
   "name": "python3"
  },
  "language_info": {
   "codemirror_mode": {
    "name": "ipython",
    "version": 3
   },
   "file_extension": ".py",
   "mimetype": "text/x-python",
   "name": "python",
   "nbconvert_exporter": "python",
   "pygments_lexer": "ipython3",
   "version": "3.9.7"
  }
 },
 "nbformat": 4,
 "nbformat_minor": 5
}
