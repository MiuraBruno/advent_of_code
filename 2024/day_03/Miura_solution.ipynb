{
 "cells": [
  {
   "cell_type": "code",
   "execution_count": 1,
   "id": "22570a44",
   "metadata": {},
   "outputs": [],
   "source": [
    "import sys\n",
    "import os\n",
    "import re\n",
    "\n",
    "module_path = os.path.abspath(os.path.join('..', 'my_lib'))\n",
    "if module_path not in sys.path:\n",
    "    sys.path.append(module_path)\n",
    "\n",
    "from my_lib_miura import read_file\n"
   ]
  },
  {
   "cell_type": "code",
   "execution_count": 2,
   "id": "5f019982",
   "metadata": {},
   "outputs": [],
   "source": [
    "content = read_file('input.txt')"
   ]
  },
  {
   "cell_type": "markdown",
   "id": "0642bc46",
   "metadata": {},
   "source": [
    "# Part 1"
   ]
  },
  {
   "cell_type": "code",
   "execution_count": 6,
   "id": "9314f671",
   "metadata": {},
   "outputs": [],
   "source": [
    "def find_mul(string):\n",
    "    regex = r\"mul\\((\\d{1,3}),(\\d{1,3})\\)\"\n",
    "    matches = re.findall(regex, string)\n",
    "    return matches"
   ]
  },
  {
   "cell_type": "code",
   "execution_count": 8,
   "id": "20c6f4f4",
   "metadata": {},
   "outputs": [
    {
     "name": "stdout",
     "output_type": "stream",
     "text": [
      "182619815\n"
     ]
    }
   ],
   "source": [
    "answer = 0\n",
    "matches = find_mul(content)\n",
    "for mul in matches:\n",
    "    answer = answer + (int(mul[0]) * int(mul[1]))\n",
    "print(answer)"
   ]
  },
  {
   "cell_type": "markdown",
   "id": "9631b379",
   "metadata": {},
   "source": [
    "# Part 2"
   ]
  },
  {
   "cell_type": "code",
   "execution_count": null,
   "id": "97264459",
   "metadata": {},
   "outputs": [],
   "source": [
    "#when have nothing, getting all mul()'s\n",
    "#when have 'do()', getting all mul()'s\n",
    "#when have 'don't()', getting none mul()'s"
   ]
  },
  {
   "cell_type": "code",
   "execution_count": 4,
   "id": "df6e3f56",
   "metadata": {},
   "outputs": [],
   "source": [
    "def find_pattern(string):\n",
    "    regex = r\"do\\(\\)|don't\\(\\)|mul\\(\\d{1,3},\\d{1,3}\\)\"\n",
    "    matches = re.findall(regex, string)\n",
    "    return matches\n",
    "\n",
    "def get_mul(list_mul):\n",
    "    get = True\n",
    "    x = []\n",
    "    for mul in list_mul:\n",
    "        if mul == \"do()\":\n",
    "            get = True\n",
    "        elif mul == \"don't()\":\n",
    "            get = False\n",
    "        elif get:\n",
    "            x.append(mul.replace('mul(','').replace(')',''))\n",
    "    return x\n",
    "\n",
    "def sum_mul_value(list_mul_2):\n",
    "    y = 0\n",
    "    for mul in list_mul_2:\n",
    "        new_mul = mul.split(',')\n",
    "        y = y + (int(new_mul[0]) * int(new_mul[1]))\n",
    "    return y\n",
    "            "
   ]
  },
  {
   "cell_type": "code",
   "execution_count": 5,
   "id": "67c61fa4",
   "metadata": {},
   "outputs": [
    {
     "name": "stdout",
     "output_type": "stream",
     "text": [
      "80747545\n"
     ]
    }
   ],
   "source": [
    "resp = 0\n",
    "values = find_pattern(content)\n",
    "list_muls = get_mul(values)\n",
    "resp = resp + sum_mul_value(list_muls)\n",
    "print(resp)"
   ]
  },
  {
   "cell_type": "code",
   "execution_count": null,
   "id": "0e97ddb2",
   "metadata": {},
   "outputs": [],
   "source": []
  }
 ],
 "metadata": {
  "kernelspec": {
   "display_name": "Python 3 (ipykernel)",
   "language": "python",
   "name": "python3"
  },
  "language_info": {
   "codemirror_mode": {
    "name": "ipython",
    "version": 3
   },
   "file_extension": ".py",
   "mimetype": "text/x-python",
   "name": "python",
   "nbconvert_exporter": "python",
   "pygments_lexer": "ipython3",
   "version": "3.9.7"
  }
 },
 "nbformat": 4,
 "nbformat_minor": 5
}
