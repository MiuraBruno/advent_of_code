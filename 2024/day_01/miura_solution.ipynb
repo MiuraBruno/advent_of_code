{
 "cells": [
  {
   "cell_type": "markdown",
   "id": "c6b1c0eb-26db-459c-bf2d-f1249b7a16e6",
   "metadata": {},
   "source": [
    "# DAY 1"
   ]
  },
  {
   "cell_type": "markdown",
   "id": "3b6661aa-1d81-457a-8f4c-7f152dee7367",
   "metadata": {},
   "source": [
    "## Parte 1"
   ]
  },
  {
   "cell_type": "code",
   "execution_count": 2,
   "id": "7fb613fb-6b0d-4b7d-a482-da2f389a2356",
   "metadata": {},
   "outputs": [],
   "source": [
    "def read_file(file_name):\n",
    "    with open(file_name,mode='r') as f:\n",
    "        conteudo = f.readlines()\n",
    "    return conteudo\n"
   ]
  },
  {
   "cell_type": "code",
   "execution_count": 4,
   "id": "d860debf-6777-44d4-8bcf-cb83905b37cd",
   "metadata": {},
   "outputs": [],
   "source": [
    "linhas = read_file('input/day1_felipe.txt')"
   ]
  },
  {
   "cell_type": "code",
   "execution_count": 6,
   "id": "202c439e-ddcb-4a44-b184-137a721e760d",
   "metadata": {},
   "outputs": [],
   "source": [
    "linhas = list(map(lambda x: x.replace('\\n',''),linhas))"
   ]
  },
  {
   "cell_type": "code",
   "execution_count": 8,
   "id": "6eb57f63-23aa-4bd6-a001-07949b8babf1",
   "metadata": {},
   "outputs": [],
   "source": [
    "linhas = list(map(lambda x: x.split(),linhas))"
   ]
  },
  {
   "cell_type": "code",
   "execution_count": 10,
   "id": "f336f06c-33d5-4673-af8b-0e2f0fe5b333",
   "metadata": {},
   "outputs": [],
   "source": [
    "lista_esquerda = sorted(list(map(lambda x: int(x[0]), linhas)))\n",
    "lista_direita = sorted(list(map(lambda x: int(x[1]), linhas)))"
   ]
  },
  {
   "cell_type": "code",
   "execution_count": 12,
   "id": "b5e1e936-588c-4faa-96db-1ce39d036a6c",
   "metadata": {},
   "outputs": [],
   "source": [
    "soma = 0\n",
    "for i in range(len(lista_esquerda)):\n",
    "    soma = soma + abs(lista_esquerda[i] - lista_direita[i])"
   ]
  },
  {
   "cell_type": "code",
   "execution_count": 14,
   "id": "aace1970-cafe-46ff-b73e-d821e3c9e551",
   "metadata": {},
   "outputs": [
    {
     "data": {
      "text/plain": [
       "1222801"
      ]
     },
     "execution_count": 14,
     "metadata": {},
     "output_type": "execute_result"
    }
   ],
   "source": [
    "soma"
   ]
  },
  {
   "cell_type": "markdown",
   "id": "bea1a72e-d6f4-4b76-adc1-9c0edcdc481f",
   "metadata": {},
   "source": [
    "## parte 2 "
   ]
  },
  {
   "cell_type": "code",
   "execution_count": 17,
   "id": "d82467a7-32a5-429f-867a-683d22f0cb10",
   "metadata": {},
   "outputs": [],
   "source": [
    "soma = 0\n",
    "for i in range(len(lista_esquerda)):\n",
    "    if lista_esquerda[i] in lista_direita:\n",
    "        soma = soma + (lista_esquerda[i] * lista_direita.count(lista_esquerda[i]))"
   ]
  },
  {
   "cell_type": "code",
   "execution_count": 19,
   "id": "a2360501-8c0f-4c3b-8e0f-92d99f6b5b90",
   "metadata": {},
   "outputs": [
    {
     "data": {
      "text/plain": [
       "22545250"
      ]
     },
     "execution_count": 19,
     "metadata": {},
     "output_type": "execute_result"
    }
   ],
   "source": [
    "soma"
   ]
  },
  {
   "cell_type": "code",
   "execution_count": null,
   "id": "6eef5f99-b68c-463a-b45a-24b5f3856b37",
   "metadata": {},
   "outputs": [],
   "source": []
  },
  {
   "cell_type": "code",
   "execution_count": null,
   "id": "29082ab5-54c1-4b1c-82be-023c3ca7eac1",
   "metadata": {},
   "outputs": [],
   "source": []
  },
  {
   "cell_type": "code",
   "execution_count": null,
   "id": "6334c877-1067-4210-98d1-72d178778ed5",
   "metadata": {},
   "outputs": [],
   "source": []
  }
 ],
 "metadata": {
  "kernelspec": {
   "display_name": "Python 3 (ipykernel)",
   "language": "python",
   "name": "python3"
  },
  "language_info": {
   "codemirror_mode": {
    "name": "ipython",
    "version": 3
   },
   "file_extension": ".py",
   "mimetype": "text/x-python",
   "name": "python",
   "nbconvert_exporter": "python",
   "pygments_lexer": "ipython3",
   "version": "3.12.7"
  }
 },
 "nbformat": 4,
 "nbformat_minor": 5
}
