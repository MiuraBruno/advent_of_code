{
 "cells": [
  {
   "cell_type": "markdown",
   "id": "dcb1daec",
   "metadata": {},
   "source": [
    "# Part 1"
   ]
  },
  {
   "cell_type": "code",
   "execution_count": 4,
   "id": "3eadcf15",
   "metadata": {},
   "outputs": [],
   "source": [
    "import sys\n",
    "import os\n",
    "\n",
    "module_path = os.path.abspath(os.path.join('..', 'my_lib'))\n",
    "if module_path not in sys.path:\n",
    "    sys.path.append(module_path)\n",
    "\n",
    "from my_lib_miura import read_file\n"
   ]
  },
  {
   "cell_type": "code",
   "execution_count": 27,
   "id": "2da290c9",
   "metadata": {},
   "outputs": [],
   "source": [
    "def is_increasing(lst):\n",
    "    return all(lst[i] < lst[i + 1] for i in range(len(lst) - 1))\n",
    "\n",
    "def is_decreasing(lst):\n",
    "    return all(lst[i] > lst[i + 1] for i in range(len(lst) - 1))\n",
    "\n",
    "def diff_two_values(a,b):\n",
    "    if a == b:\n",
    "        return False\n",
    "    elif abs(a-b) <= 3:\n",
    "        return True\n",
    "    else:\n",
    "        return False"
   ]
  },
  {
   "cell_type": "code",
   "execution_count": 6,
   "id": "1a7ea3b5",
   "metadata": {},
   "outputs": [],
   "source": [
    "content = read_file('input.txt')"
   ]
  },
  {
   "cell_type": "code",
   "execution_count": 8,
   "id": "10463d3b",
   "metadata": {},
   "outputs": [],
   "source": [
    "content = list(map(lambda x: x.split(), content))"
   ]
  },
  {
   "cell_type": "code",
   "execution_count": 26,
   "id": "f99eaa73",
   "metadata": {},
   "outputs": [],
   "source": [
    "reports = []\n",
    "for i in content:\n",
    "    reports.append(list(map(lambda x: int(x), i)))"
   ]
  },
  {
   "cell_type": "code",
   "execution_count": 72,
   "id": "391eee70",
   "metadata": {},
   "outputs": [
    {
     "name": "stdout",
     "output_type": "stream",
     "text": [
      "2\n"
     ]
    }
   ],
   "source": [
    "answer = 0\n",
    "for report in reports:\n",
    "    if is_increasing(report) or is_decreasing(report):\n",
    "        for i,value in enumerate(report[:-1]):\n",
    "            if diff_two_values(report[i],report[i+1]):\n",
    "                pass\n",
    "            else:\n",
    "                break\n",
    "        else:\n",
    "            answer = answer + 1\n",
    "            \n",
    "print(answer)     "
   ]
  },
  {
   "cell_type": "markdown",
   "id": "f1072028",
   "metadata": {},
   "source": [
    "# Part 2"
   ]
  },
  {
   "cell_type": "code",
   "execution_count": 122,
   "id": "171da2aa",
   "metadata": {},
   "outputs": [],
   "source": [
    "reports = [\n",
    "    [7, 6, 4, 2, 1]\n",
    "    ,[1, 2, 7, 8, 9]\n",
    "    ,[9, 7, 6, 2, 1]\n",
    "    ,[1, 3, 2, 4, 5]\n",
    "    ,[8, 6, 4, 4, 1]\n",
    "    ,[1, 3, 6, 7, 9]\n",
    "]"
   ]
  },
  {
   "cell_type": "code",
   "execution_count": 123,
   "id": "78954dbc",
   "metadata": {},
   "outputs": [],
   "source": [
    "answer = 0\n",
    "probably_report = []\n",
    "for report in reports:\n",
    "    one_fail = 0\n",
    "    probably_i = []\n",
    "    for i,number in enumerate(report[:-1]):\n",
    "        if diff_two_values(report[i], report[i+1]):\n",
    "            pass\n",
    "        else:\n",
    "            one_fail = one_fail + 1\n",
    "            probably_i.append(i)\n",
    "        if is_decreasing([report[i],report[i+1]]) or is_increasing([report[i],report[i+1]]):\n",
    "            pass\n",
    "        else:\n",
    "            one_fail = one_fail + 1\n",
    "            probably_i.append(i)\n",
    "        if one_fail > 1:\n",
    "            break\n",
    "    else:\n",
    "        probably_report.append([report,probably_i])     "
   ]
  },
  {
   "cell_type": "code",
   "execution_count": 125,
   "id": "b2c4d176",
   "metadata": {},
   "outputs": [
    {
     "name": "stdout",
     "output_type": "stream",
     "text": [
      "[1, 7, 8, 9]\n",
      "[1, 7, 8, 9]\n",
      "----------\n",
      "[9, 7, 2, 1]\n",
      "[9, 7, 2, 1]\n",
      "----------\n"
     ]
    }
   ],
   "source": [
    "answer = 0\n",
    "for i,report in enumerate(probably_report):\n",
    "    if report[1] == []:\n",
    "        answer = answer + 1\n",
    "    else:\n",
    "        check = report[0]\n",
    "        del check[report[1][0]]\n",
    "        print(report[0])\n",
    "        print(check)\n",
    "        print('-'*10)"
   ]
  },
  {
   "cell_type": "code",
   "execution_count": 124,
   "id": "422350c3",
   "metadata": {},
   "outputs": [
    {
     "data": {
      "text/plain": [
       "[[[7, 6, 4, 2, 1], []],\n",
       " [[1, 2, 7, 8, 9], [1]],\n",
       " [[9, 7, 6, 2, 1], [2]],\n",
       " [[1, 3, 2, 4, 5], []],\n",
       " [[1, 3, 6, 7, 9], []]]"
      ]
     },
     "execution_count": 124,
     "metadata": {},
     "output_type": "execute_result"
    }
   ],
   "source": [
    "probably_report"
   ]
  },
  {
   "cell_type": "code",
   "execution_count": null,
   "id": "94e5ddc8",
   "metadata": {},
   "outputs": [],
   "source": []
  }
 ],
 "metadata": {
  "kernelspec": {
   "display_name": "Python 3 (ipykernel)",
   "language": "python",
   "name": "python3"
  },
  "language_info": {
   "codemirror_mode": {
    "name": "ipython",
    "version": 3
   },
   "file_extension": ".py",
   "mimetype": "text/x-python",
   "name": "python",
   "nbconvert_exporter": "python",
   "pygments_lexer": "ipython3",
   "version": "3.9.7"
  }
 },
 "nbformat": 4,
 "nbformat_minor": 5
}
