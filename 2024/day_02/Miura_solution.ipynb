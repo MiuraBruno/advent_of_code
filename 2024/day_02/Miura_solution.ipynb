{
 "cells": [
  {
   "cell_type": "markdown",
   "id": "dcb1daec",
   "metadata": {},
   "source": [
    "# Part 1"
   ]
  },
  {
   "cell_type": "code",
   "execution_count": 1,
   "id": "3eadcf15",
   "metadata": {},
   "outputs": [],
   "source": [
    "import sys\n",
    "import os\n",
    "\n",
    "module_path = os.path.abspath(os.path.join('..', 'my_lib'))\n",
    "if module_path not in sys.path:\n",
    "    sys.path.append(module_path)\n",
    "\n",
    "from my_lib_miura import read_file\n"
   ]
  },
  {
   "cell_type": "code",
   "execution_count": 2,
   "id": "2da290c9",
   "metadata": {},
   "outputs": [],
   "source": [
    "def is_increasing(lst):\n",
    "    return all(lst[i] < lst[i + 1] for i in range(len(lst) - 1))\n",
    "\n",
    "def is_decreasing(lst):\n",
    "    return all(lst[i] > lst[i + 1] for i in range(len(lst) - 1))\n",
    "\n",
    "def diff_two_values(a,b):\n",
    "    if a == b:\n",
    "        return False\n",
    "    elif abs(a-b) <= 3:\n",
    "        return True\n",
    "    else:\n",
    "        return False"
   ]
  },
  {
   "cell_type": "code",
   "execution_count": 3,
   "id": "1a7ea3b5",
   "metadata": {},
   "outputs": [],
   "source": [
    "content = read_file('input.txt')"
   ]
  },
  {
   "cell_type": "code",
   "execution_count": 4,
   "id": "10463d3b",
   "metadata": {},
   "outputs": [],
   "source": [
    "content = list(map(lambda x: x.split(), content))"
   ]
  },
  {
   "cell_type": "code",
   "execution_count": 5,
   "id": "f99eaa73",
   "metadata": {},
   "outputs": [],
   "source": [
    "reports = []\n",
    "for i in content:\n",
    "    reports.append(list(map(lambda x: int(x), i)))"
   ]
  },
  {
   "cell_type": "code",
   "execution_count": 6,
   "id": "391eee70",
   "metadata": {},
   "outputs": [
    {
     "name": "stdout",
     "output_type": "stream",
     "text": [
      "242\n"
     ]
    }
   ],
   "source": [
    "answer = 0\n",
    "for report in reports:\n",
    "    if is_increasing(report) or is_decreasing(report):\n",
    "        for i,value in enumerate(report[:-1]):\n",
    "            if diff_two_values(report[i],report[i+1]):\n",
    "                pass\n",
    "            else:\n",
    "                break\n",
    "        else:\n",
    "            answer = answer + 1\n",
    "            \n",
    "print(answer)     "
   ]
  },
  {
   "cell_type": "markdown",
   "id": "f1072028",
   "metadata": {},
   "source": [
    "# Part 2"
   ]
  },
  {
   "cell_type": "code",
   "execution_count": 24,
   "id": "85290d8a",
   "metadata": {},
   "outputs": [
    {
     "name": "stdout",
     "output_type": "stream",
     "text": [
      "311\n"
     ]
    }
   ],
   "source": [
    "answer = 0\n",
    "for report in reports:\n",
    "    good = False\n",
    "    for j in range(len(report)):\n",
    "        xs = report[:j] + report[j+1:]\n",
    "        inc_or_dec = (xs==sorted(xs) or xs==sorted(xs,reverse=True))\n",
    "        ok = True\n",
    "        for i in range(len(xs)-1):\n",
    "            diff = abs(xs[i]-xs[i+1])\n",
    "            if not 1<=diff<=3:\n",
    "                ok = False\n",
    "        if inc_or_dec and ok:\n",
    "            good=True\n",
    "    if good:\n",
    "        answer = answer + 1\n",
    "print(answer)"
   ]
  },
  {
   "cell_type": "code",
   "execution_count": null,
   "id": "6377c835",
   "metadata": {},
   "outputs": [],
   "source": []
  }
 ],
 "metadata": {
  "kernelspec": {
   "display_name": "Python 3 (ipykernel)",
   "language": "python",
   "name": "python3"
  },
  "language_info": {
   "codemirror_mode": {
    "name": "ipython",
    "version": 3
   },
   "file_extension": ".py",
   "mimetype": "text/x-python",
   "name": "python",
   "nbconvert_exporter": "python",
   "pygments_lexer": "ipython3",
   "version": "3.9.7"
  }
 },
 "nbformat": 4,
 "nbformat_minor": 5
}
